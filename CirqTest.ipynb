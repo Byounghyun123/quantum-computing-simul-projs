{
 "cells": [
  {
   "cell_type": "code",
   "execution_count": 1,
   "id": "29bcac15",
   "metadata": {},
   "outputs": [],
   "source": [
    "import cirq_google\n",
    "import networkx as nx"
   ]
  },
  {
   "cell_type": "code",
   "execution_count": 2,
   "id": "c8d08cb7",
   "metadata": {
    "scrolled": true
   },
   "outputs": [
    {
     "name": "stdout",
     "output_type": "stream",
     "text": [
      "                                             (0, 5)───(0, 6)\n",
      "                                             │        │\n",
      "                                             │        │\n",
      "                                    (1, 4)───(1, 5)───(1, 6)───(1, 7)\n",
      "                                    │        │        │        │\n",
      "                                    │        │        │        │\n",
      "                           (2, 3)───(2, 4)───(2, 5)───(2, 6)───(2, 7)───(2, 8)\n",
      "                           │        │        │        │        │        │\n",
      "                           │        │        │        │        │        │\n",
      "                  (3, 2)───(3, 3)───(3, 4)───(3, 5)───(3, 6)───(3, 7)───(3, 8)───(3, 9)\n",
      "                  │        │        │        │        │        │        │        │\n",
      "                  │        │        │        │        │        │        │        │\n",
      "         (4, 1)───(4, 2)───(4, 3)───(4, 4)───(4, 5)───(4, 6)───(4, 7)───(4, 8)───(4, 9)\n",
      "         │        │        │        │        │        │        │        │\n",
      "         │        │        │        │        │        │        │        │\n",
      "(5, 0)───(5, 1)───(5, 2)───(5, 3)───(5, 4)───(5, 5)───(5, 6)───(5, 7)───(5, 8)\n",
      "         │        │        │        │        │        │        │\n",
      "         │        │        │        │        │        │        │\n",
      "         (6, 1)───(6, 2)───(6, 3)───(6, 4)───(6, 5)───(6, 6)───(6, 7)\n",
      "                  │        │        │        │        │\n",
      "                  │        │        │        │        │\n",
      "                  (7, 2)───(7, 3)───(7, 4)───(7, 5)───(7, 6)\n",
      "                           │        │        │\n",
      "                           │        │        │\n",
      "                           (8, 3)───(8, 4)───(8, 5)\n",
      "                                    │\n",
      "                                    │\n",
      "                                    (9, 4)\n"
     ]
    }
   ],
   "source": [
    "my_device = cirq_google.Sycamore\n",
    "print(my_device)"
   ]
  },
  {
   "cell_type": "code",
   "execution_count": 6,
   "id": "fe9f337c",
   "metadata": {},
   "outputs": [],
   "source": [
    "a = cirq.NamedQubit(\"a\")\n",
    "b = cirq.NamedQubit(\"b\")"
   ]
  },
  {
   "cell_type": "code",
   "execution_count": 7,
   "id": "33f79478",
   "metadata": {},
   "outputs": [],
   "source": [
    "circuit = cirq.Circuit(\n",
    "    cirq.H(a),\n",
    "    cirq.CNOT(a,b),\n",
    "    cirq.measure(a,b)\n",
    ")"
   ]
  },
  {
   "cell_type": "code",
   "execution_count": 8,
   "id": "ef42886d",
   "metadata": {},
   "outputs": [
    {
     "name": "stdout",
     "output_type": "stream",
     "text": [
      "a: ───H───@───M───\n",
      "          │   │\n",
      "b: ───────X───M───\n"
     ]
    }
   ],
   "source": [
    "print(circuit)"
   ]
  },
  {
   "cell_type": "code",
   "execution_count": 9,
   "id": "a3997408",
   "metadata": {},
   "outputs": [
    {
     "name": "stdout",
     "output_type": "stream",
     "text": [
      "\n",
      "Moments in the circuit:\n",
      "\n",
      "Moment 0:   ╷ None\n",
      "╶─┼──────\n",
      "a │ H\n",
      "  │\n",
      "Moment 1:   ╷ None\n",
      "╶─┼──────\n",
      "a │ @\n",
      "  │ │\n",
      "b │ X\n",
      "  │\n",
      "Moment 2:   ╷ None\n",
      "╶─┼──────\n",
      "a │ M\n",
      "  │ │\n",
      "b │ M\n",
      "  │\n"
     ]
    }
   ],
   "source": [
    "print(\"\\nMoments in the circuit:\\n\")\n",
    "for i, moment in enumerate(circuit):\n",
    "    print('Moment {}: {}'.format(i, moment))"
   ]
  },
  {
   "cell_type": "code",
   "execution_count": 11,
   "id": "8fd45648",
   "metadata": {},
   "outputs": [
    {
     "name": "stdout",
     "output_type": "stream",
     "text": [
      "cirq.Circuit([\n",
      "    cirq.Moment(\n",
      "        cirq.H(cirq.NamedQubit('a')),\n",
      "    ),\n",
      "    cirq.Moment(\n",
      "        cirq.CNOT(cirq.NamedQubit('a'), cirq.NamedQubit('b')),\n",
      "    ),\n",
      "    cirq.Moment(\n",
      "        cirq.measure(cirq.NamedQubit('a'), cirq.NamedQubit('b')),\n",
      "    ),\n",
      "])\n"
     ]
    }
   ],
   "source": [
    "print(repr(circuit))"
   ]
  },
  {
   "cell_type": "code",
   "execution_count": 12,
   "id": "e3538bd5",
   "metadata": {},
   "outputs": [],
   "source": [
    "simulator = cirq.Simulator()"
   ]
  },
  {
   "cell_type": "code",
   "execution_count": 13,
   "id": "7cc64a47",
   "metadata": {},
   "outputs": [],
   "source": [
    "result = simulator.run(circuit, repetitions=20)"
   ]
  },
  {
   "cell_type": "code",
   "execution_count": 14,
   "id": "fa19daaa",
   "metadata": {},
   "outputs": [
    {
     "name": "stdout",
     "output_type": "stream",
     "text": [
      "a,b=10011000001011011000, 10011000001011011000\n"
     ]
    }
   ],
   "source": [
    "print(result)"
   ]
  },
  {
   "cell_type": "code",
   "execution_count": null,
   "id": "4b80a158",
   "metadata": {},
   "outputs": [],
   "source": []
  }
 ],
 "metadata": {
  "kernelspec": {
   "display_name": "Python 3 (ipykernel)",
   "language": "python",
   "name": "python3"
  },
  "language_info": {
   "codemirror_mode": {
    "name": "ipython",
    "version": 3
   },
   "file_extension": ".py",
   "mimetype": "text/x-python",
   "name": "python",
   "nbconvert_exporter": "python",
   "pygments_lexer": "ipython3",
   "version": "3.11.4"
  }
 },
 "nbformat": 4,
 "nbformat_minor": 5
}

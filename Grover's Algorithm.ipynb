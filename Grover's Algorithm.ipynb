{
 "cells": [
  {
   "cell_type": "code",
   "execution_count": 26,
   "id": "eb3274bf",
   "metadata": {},
   "outputs": [],
   "source": [
    "import cirq\n",
    "import networkx as nx\n",
    "import numpy as np"
   ]
  },
  {
   "cell_type": "code",
   "execution_count": 27,
   "id": "43baaaaf",
   "metadata": {},
   "outputs": [],
   "source": [
    "# Defining the Oracle"
   ]
  },
  {
   "cell_type": "code",
   "execution_count": 28,
   "id": "839ad1f2",
   "metadata": {},
   "outputs": [],
   "source": [
    "def create_grover_oracle(qubits, target_state):\n",
    "    # Creating a circuit that flips the sign of the target state\n",
    "    oracle = cirq.Circuit()\n",
    "    oracle.append(cirq.X.on(q) for q, bit in zip(qubits, target_state) if not bit)\n",
    "    oracle.append(cirq.Z(qubits[-1]).controlled_by(*qubits[:-1]))\n",
    "    oracle.append(cirq.X.on(q) for q, bit in zip(qubits, target_state) if not bit)\n",
    "    return oracle"
   ]
  },
  {
   "cell_type": "code",
   "execution_count": 29,
   "id": "47d638c9",
   "metadata": {},
   "outputs": [],
   "source": [
    "# Defining the Diffusion Operator"
   ]
  },
  {
   "cell_type": "code",
   "execution_count": 30,
   "id": "fc3ad28e",
   "metadata": {},
   "outputs": [],
   "source": [
    "def create_diffusion_operator(qubits):\n",
    "    diffusion = cirq.Circuit()\n",
    "    diffusion.append(cirq.H.on_each(*qubits))\n",
    "    diffusion.append(cirq.X.on_each(*qubits))\n",
    "    diffusion.append(cirq.Z(qubits[-1]).controlled_by(*qubits[:-1]))\n",
    "    diffusion.append(cirq.X.on_each(*qubits))\n",
    "    diffusion.append(cirq.H.on_each(*qubits))\n",
    "    return diffusion"
   ]
  },
  {
   "cell_type": "code",
   "execution_count": 31,
   "id": "a1d3d407",
   "metadata": {},
   "outputs": [],
   "source": [
    "# Defining the Circuit"
   ]
  },
  {
   "cell_type": "code",
   "execution_count": 32,
   "id": "e4d581ab",
   "metadata": {},
   "outputs": [],
   "source": [
    "def create_grover_circuit(qubits, oracle, diffusion, num_iterations):\n",
    "    grover_circuit = cirq.Circuit()\n",
    "    \n",
    "    # Initialize qubits in a uniform superposition\n",
    "    grover_circuit.append(cirq.H.on_each(*qubits))\n",
    "    \n",
    "    # Apply Grover's iterations\n",
    "    for _ in range(num_iterations):\n",
    "        grover_circuit.append(oracle)\n",
    "        grover_circuit.append(diffusion)\n",
    "        \n",
    "    return grover_circuit"
   ]
  },
  {
   "cell_type": "code",
   "execution_count": 33,
   "id": "7a4cc298",
   "metadata": {},
   "outputs": [],
   "source": [
    "# Main function"
   ]
  },
  {
   "cell_type": "code",
   "execution_count": 34,
   "id": "849d328a",
   "metadata": {},
   "outputs": [],
   "source": [
    "def main():\n",
    "    # Set the number of qubits and the target state to search\n",
    "    num_qubits = 3\n",
    "    target_state = [1, 0, 1] # Example target state\n",
    "    \n",
    "    # Create qubits\n",
    "    qubits = cirq.LineQubit.range(num_qubits)\n",
    "    \n",
    "    # Create the Oracle and Diffusion Operator\n",
    "    oracle = create_grover_oracle(qubits, target_state)\n",
    "    diffusion = create_diffusion_operator(qubits)\n",
    "    \n",
    "    # Set the number of iterations for Grover's algorithm\n",
    "    num_iterations = int(np.pi / 4 * np.sqrt(2**num_qubits))\n",
    "    \n",
    "    # Create the circuit\n",
    "    grover_circuit = create_grover_circuit(qubits, oracle, diffusion, num_iterations)\n",
    "    \n",
    "    # Display the circuit\n",
    "    print(\"Grover's Algorithm Circuit:\")\n",
    "    print(grover_circuit)"
   ]
  },
  {
   "cell_type": "code",
   "execution_count": 35,
   "id": "31ea74f2",
   "metadata": {},
   "outputs": [
    {
     "name": "stdout",
     "output_type": "stream",
     "text": [
      "Grover's Algorithm Circuit:\n",
      "0: ───H───────@───────H───X───@───X───H───────@───────H───X───@───X───H───\n",
      "              │               │               │               │\n",
      "1: ───H───X───@───X───H───X───@───X───H───X───@───X───H───X───@───X───H───\n",
      "              │               │               │               │\n",
      "2: ───H───────@───────H───X───@───X───H───────@───────H───X───@───X───H───\n"
     ]
    }
   ],
   "source": [
    "if __name__ == \"__main__\":\n",
    "    main()"
   ]
  },
  {
   "cell_type": "code",
   "execution_count": null,
   "id": "f101ee41",
   "metadata": {},
   "outputs": [],
   "source": []
  }
 ],
 "metadata": {
  "kernelspec": {
   "display_name": "Python 3 (ipykernel)",
   "language": "python",
   "name": "python3"
  },
  "language_info": {
   "codemirror_mode": {
    "name": "ipython",
    "version": 3
   },
   "file_extension": ".py",
   "mimetype": "text/x-python",
   "name": "python",
   "nbconvert_exporter": "python",
   "pygments_lexer": "ipython3",
   "version": "3.11.4"
  }
 },
 "nbformat": 4,
 "nbformat_minor": 5
}
